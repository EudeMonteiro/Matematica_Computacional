{
  "nbformat": 4,
  "nbformat_minor": 0,
  "metadata": {
    "colab": {
      "provenance": []
    },
    "kernelspec": {
      "name": "python3",
      "display_name": "Python 3"
    },
    "language_info": {
      "name": "python"
    }
  },
  "cells": [
    {
      "cell_type": "markdown",
      "source": [
        "#**Relatório - Exercício Prático I**\n",
        "\n",
        "###*Este relatório tem por objetivo apresentar os códigos desenvolvidos e discutir os resultados obtidos relativos às questões apresentadas no Exercício Prático I da disciplina de Matemática Computacional.*\n",
        "\n",
        "Aluno: Eude Monteiro da Hora "
      ],
      "metadata": {
        "id": "aK-Zxtomzwm2"
      }
    },
    {
      "cell_type": "markdown",
      "source": [
        "##Exercício 1 - Aquecimento\n",
        "\n",
        "Escreva um programa que obtenha os seguintes resultados:\n",
        "\n",
        "$$S = 10000 - \\sum_{k=1}^{n}{x}$$\n",
        "\n",
        "Para:\n",
        "\n",
        "a) $𝑛 = 100000$ e $𝑥 = 0.1$;\\\n",
        "b) $𝑛 = 80000$ e $𝑥 = 0.125$\n",
        "\n",
        "Qual o erro absoluto e relativo em ambos os casos?\n",
        "\n",
        "\n"
      ],
      "metadata": {
        "id": "AGjVz-h8BfQV"
      }
    },
    {
      "cell_type": "code",
      "execution_count": 37,
      "metadata": {
        "id": "YRl4kB4A9N_a",
        "colab": {
          "base_uri": "https://localhost:8080/"
        },
        "outputId": "a691126c-5b0a-43b3-b135-d408d077fd6d"
      },
      "outputs": [
        {
          "output_type": "stream",
          "name": "stdout",
          "text": [
            "Resultado da expressão para n = 100000 e x = 0.1: -1.8848368199542165e-08\n",
            "\n",
            "Erro absoluto: |0.0 - -1.8848368199542165e-08| = 1.8848368199542165e-08\n",
            "Erro relativo: |1.8848368199542165e-08| / |-1.8848368199542165e-08| = -1.0\n",
            "\n",
            "Resultado da expressão para n = 80000 e x = 0.125: 0.0\n",
            "\n",
            "Erro absoluto: |0.0 - 0.0| = 0.0\n",
            "Erro relativo: Valor indefinido\n",
            "\n"
          ]
        }
      ],
      "source": [
        "def compute_expression(n: int, x: float):\n",
        "    \n",
        "    res = 0\n",
        "    for _ in range(1, n+1):\n",
        "        res += x\n",
        "    \n",
        "    return 10000 - res\n",
        "\n",
        "def compute_absolute_relative_error(n: int, x: float):\n",
        "    \"\"\"\n",
        "    Calcula erro absoluto e relativo da expressão.\n",
        "    \"\"\"\n",
        "\n",
        "    abs_error = abs(10000 - (n * x) - compute_expression(n, x))\n",
        "\n",
        "    print(f\"Erro absoluto: |{10000 - (n * x)} - {compute_expression(n, x)}| = \"    \n",
        "          f\"{abs_error}\")\n",
        "    \n",
        "    try:    \n",
        "        print(f\"Erro relativo: |{abs_error}| / |{compute_expression(n, x)}| = \"    \n",
        "         f\"{abs_error / compute_expression(n, x)}\")\n",
        "        \n",
        "    except ZeroDivisionError:\n",
        "        print(\"Erro relativo: Valor indefinido\")\n",
        "\n",
        "\n",
        "if __name__ == '__main__':\n",
        "    \n",
        "    values_pairs = [(100000, 0.1),\n",
        "                    (80000, 0.125)]\n",
        "\n",
        "    for pair in values_pairs:\n",
        "\n",
        "        n, x = pair\n",
        "        print(f\"Resultado da expressão para n = {n} \"\n",
        "              f\"e x = {x}: {compute_expression(n, x)}\\n\")\n",
        "        \n",
        "        compute_absolute_relative_error(n, x)\n",
        "        print()\n",
        "        "
      ]
    },
    {
      "cell_type": "markdown",
      "source": [
        "Devido ao fato de o número 0.1 não possuir representação exata em números binários, a aproximação obtida pelo computador acaba influenciando no cálculo da expressão, fazendo com que o resultado retornado pelo algoritmo apresente erro em relaçao ao resultado esperado."
      ],
      "metadata": {
        "id": "FJ1vu16kxFew"
      }
    },
    {
      "cell_type": "markdown",
      "source": [
        "##Exercício 2 - Precisão da máquina\n",
        "\n",
        "O algoritmo a seguir estima a precisão da máquina:\n",
        "\n",
        "*   Passo 1: A=1; s=2\n",
        "*   Passo 2: Enquanto s > 1, faça A=A/2; s=1+A\n",
        "*   Passo 3: Faça Prec=2A e imprima Prec."
      ],
      "metadata": {
        "id": "cHVeA_4VBj7h"
      }
    },
    {
      "cell_type": "markdown",
      "source": [
        "a) Teste este algoritmo usando uma linguagem de programação. Quando\n",
        "for possível, declare as variáveis em precisão simples e dupla e\n",
        "compare."
      ],
      "metadata": {
        "id": "uSoz1_eiBCBj"
      }
    },
    {
      "cell_type": "code",
      "source": [
        "import numpy as np\n",
        "\n",
        "def machine_precision():\n",
        "    a,s = 1,2\n",
        "    \n",
        "    while s > 1:\n",
        "        a /= 2\n",
        "        s = 1+a\n",
        "\n",
        "    Prec = 2*a\n",
        "    return Prec"
      ],
      "metadata": {
        "id": "OSsMH7E5BnC7"
      },
      "execution_count": 2,
      "outputs": []
    },
    {
      "cell_type": "code",
      "source": [
        "if __name__ == '__main__':\n",
        "    \n",
        "    precision = machine_precision()\n",
        "\n",
        "    print(f\"Com precisão simples:\", end=\" \") \n",
        "    print(np.float32(precision))\n",
        "    print(f\"Com precisão dupla:\", end=\" \")\n",
        "    print(np.float64(precision))"
      ],
      "metadata": {
        "colab": {
          "base_uri": "https://localhost:8080/"
        },
        "id": "W_njKzaOAhhL",
        "outputId": "fb2c6822-820c-408c-dfb3-e570a741f19d"
      },
      "execution_count": 8,
      "outputs": [
        {
          "output_type": "stream",
          "name": "stdout",
          "text": [
            "Com precisão simples: 2.220446e-16\n",
            "Com precisão dupla: 2.220446049250313e-16\n"
          ]
        }
      ]
    },
    {
      "cell_type": "markdown",
      "source": [
        "b) Interprete o passo 3 do algoritmo, isto é, por que a aproximação para\n",
        "\"Prec\" é escolhida como sendo o dobro do último valor de A obtido no\n",
        "passo 2?\n",
        "\n",
        "*Resp.: A precisão é dobrada pois o tipo de dados **float** possui 6 ou 7 dígitos significativos, enquanto o tipo **double** possui 14 a 15 dígitos significativos, sendo assim, este último ocupa o dobro de espaço que o primeiro tipo, i.e. 32 bits a mais. Dado que o tipo de dados **float** em Python é equivalente ao tipo de dados **double** de linguagens como C e C++, foi necessário fazer uso da biblioteca Numpy para realizar o reajuste de precisão.*"
      ],
      "metadata": {
        "id": "WPvcjdWyBKn9"
      }
    },
    {
      "cell_type": "markdown",
      "source": [
        "c) Na definição de precisão da máquina, usamos como referência o\n",
        "número 1. Altere o algoritmo acima para que o usuário possa escolher o\n",
        "valor de referência."
      ],
      "metadata": {
        "id": "UUT6d8GAA7GW"
      }
    },
    {
      "cell_type": "code",
      "source": [
        "def machine_precision():\n",
        "    \n",
        "    while True:\n",
        "        try:\n",
        "            a = int(input(\"Escolha o valor de referência: \"))\n",
        "        except ValueError:\n",
        "            print(\"Valor inválido, tente novamente.\")\n",
        "        \n",
        "        else: \n",
        "            break\n",
        "        \n",
        "    s = 2\n",
        "    \n",
        "    while s > 1:\n",
        "        a /= 2\n",
        "        s = 1+a\n",
        "\n",
        "    Prec = 2*a\n",
        "    return Prec\n",
        "\n",
        "print(f\"\\nPrecisão: {machine_precision()}\")"
      ],
      "metadata": {
        "colab": {
          "base_uri": "https://localhost:8080/"
        },
        "id": "xAdjpscLEoMn",
        "outputId": "f87e9ea3-c78f-48f1-c009-a6b116551354"
      },
      "execution_count": 38,
      "outputs": [
        {
          "output_type": "stream",
          "name": "stdout",
          "text": [
            "Escolha o valor de referência: 100000\n",
            "\n",
            "Precisão: 1.6940658945086007e-16\n"
          ]
        }
      ]
    },
    {
      "cell_type": "markdown",
      "source": [
        "C.1) Teste o algoritmo para os valores 10, 17, 100, 184, 1000, 1575, 10000, 17893."
      ],
      "metadata": {
        "id": "GAHRkceAHqWx"
      }
    },
    {
      "cell_type": "code",
      "source": [
        "def machine_precision(a = 1):\n",
        "    s = 2\n",
        "    \n",
        "    while s > 1:\n",
        "        a /= 2\n",
        "        s = 1+a\n",
        "\n",
        "    Prec = 2*a\n",
        "    return Prec\n",
        "\n",
        "\n",
        "values = (10, 17, 100, 184, 1000, 1575, 10000, 17893)\n",
        "\n",
        "for value in values:\n",
        "    print(f\"Valor de referência: {value}\\nPrecisão: {machine_precision(a=value)}\\n\\n\")"
      ],
      "metadata": {
        "colab": {
          "base_uri": "https://localhost:8080/"
        },
        "id": "k9iX1-9-AdM4",
        "outputId": "daa2295e-5db1-48f7-fb88-711d544ce6a9"
      },
      "execution_count": 15,
      "outputs": [
        {
          "output_type": "stream",
          "name": "stdout",
          "text": [
            "Valor de referência: 10\n",
            "Precisão: 1.3877787807814457e-16\n",
            "\n",
            "\n",
            "Valor de referência: 17\n",
            "Precisão: 1.1796119636642288e-16\n",
            "\n",
            "\n",
            "Valor de referência: 100\n",
            "Precisão: 1.734723475976807e-16\n",
            "\n",
            "\n",
            "Valor de referência: 184\n",
            "Precisão: 1.5959455978986625e-16\n",
            "\n",
            "\n",
            "Valor de referência: 1000\n",
            "Precisão: 2.1684043449710089e-16\n",
            "\n",
            "\n",
            "Valor de referência: 1575\n",
            "Precisão: 1.7076184216646695e-16\n",
            "\n",
            "\n",
            "Valor de referência: 10000\n",
            "Precisão: 1.3552527156068805e-16\n",
            "\n",
            "\n",
            "Valor de referência: 17893\n",
            "Precisão: 1.2124768420176957e-16\n",
            "\n",
            "\n"
          ]
        }
      ]
    },
    {
      "cell_type": "markdown",
      "source": [
        "C.2) O valor de precisão se altera? Se sim, quanto e cada caso? Por que isso ocorre?"
      ],
      "metadata": {
        "id": "1eeOi3X5Hsz9"
      }
    },
    {
      "cell_type": "markdown",
      "source": [
        "*Resp.: Sim, o valor de precisão se altera ligeiramente entre os casos, o que ocorre devido a erros de precisão de máquina decorrentes da conversão entre valores decimais e binários.*"
      ],
      "metadata": {
        "id": "8gpwdUZ6NQSa"
      }
    },
    {
      "cell_type": "markdown",
      "source": [
        "##Exercício 3 - Exponencial pela Série de Taylor\n",
        "\n",
        "*   Escreva um algoritmo que calcula a $e^{x}$ pela série de Taylor\n",
        "(abaixo) com 𝑛 termos, na qual 𝑛 e 𝑥 são entradas do usuário.\n",
        "\n",
        "$$ e^x = \\sum_{k=0}^n \\frac{x^k}{k!} = 1 + x + \\frac{x^2}{2!} + ... + \\frac{x^n}{n!} $$\n",
        "\n",
        "*   Para valores negativos de 𝑥 o programa deve calcular de duas\n",
        "formas:\n",
        "    * Usar o 𝑥 diretamente na série\n",
        "    * Usar 𝑦 = −𝑥 e depois calcular $𝑒^{𝑥}$ através de $\\frac{1}{e^{𝑥}}$\n",
        "\n",
        "* Teste seu programa para vários valores de x (próximo e\n",
        "distante de 0) e para vários valores de n. Faça uma análise desses resultados.\n",
        "\n",
        "* O cálculo de 𝑘! necessário na série de Taylor pode ser feito de\n",
        "modo a evitar a ocorrência de overflow.\n",
        "    * Analise o cálculo de cada termo de $\\frac{{𝑥}^{k}}{𝑘!}$. Tente misturar o cálculo do numerador e do denominador e realizar divisões intermediárias. Implemente de modo que não ocorra mais overflow.\n",
        "    * Uma vez que não ocorre mais overflow, qual critério de\n",
        "parada é melhor se adotar para 𝑛? \\\n",
        "        *Resp: Um possível critério de parada é verificar se o novo valor calculado numa dada iteração é igual ao valor calculado na iteração anterior. Caso seja, o algoritmo deve parar para evitar cálculos desnecessários, i.e., que não aumentam a precisão do resultado por conta das limitações da máquina.*\n",
        "\n",
        " \n",
        "\n",
        "\n",
        "\n",
        "\n",
        "\n",
        "\n"
      ],
      "metadata": {
        "id": "MgscqG8NeKGY"
      }
    },
    {
      "cell_type": "code",
      "source": [
        "from math import factorial\n",
        "\n",
        "def taylor_series(mode = False):\n",
        "    \"\"\"\n",
        "    A flag \"mode\" indica o modo de cálculo de e^x\n",
        "    para valores negativos de x da seguinte forma:\n",
        "\n",
        "    - se mode == False, usa-se x diretamente na série\n",
        "    - se mode == True, multiplica-se x por -1 e o resultado\n",
        "      final é dado por 1/(e^x)\n",
        "    \"\"\"\n",
        "\n",
        "    while True:\n",
        "        try:\n",
        "             n = int(input(\"Insira o valor de n: \"))\n",
        "        except ValueError:\n",
        "            print(\"Valor inválido, tente novamente.\")\n",
        "        \n",
        "        else: \n",
        "            break\n",
        "    \n",
        "    while True:\n",
        "        try:\n",
        "             x = float(input(\"Insira o valor de x: \"))\n",
        "\n",
        "        except ValueError:\n",
        "            print(\"Valor inválido, tente novamente.\")\n",
        "        \n",
        "        else: \n",
        "            print()  \n",
        "            break\n",
        "    \n",
        "\n",
        "    num = 0\n",
        "    \n",
        "    value_flag = None\n",
        "    if x < 0 and mode:\n",
        "        x *= -1\n",
        "        value_flag = True\n",
        "\n",
        "        \n",
        "    for k in range(0, n+1):\n",
        "        if k<2: \n",
        "            res = x**k / factorial(k)\n",
        "            num += res\n",
        "\n",
        "        else:\n",
        "\n",
        "            temp = res * (x/k)\n",
        "            num += temp\n",
        "            res = temp\n",
        "\n",
        "            previous_num = num\n",
        "\n",
        "            #Critério de parada\n",
        "            if num == previous_num:\n",
        "                break\n",
        "\n",
        "  \n",
        "    return 1/num if value_flag else num\n",
        "\n",
        "\n",
        "if __name__ == '__main__':\n",
        "    \n",
        "    for _ in range(3):\n",
        "        print(f\"Resultado: {taylor_series(False)}\")\n",
        "        print()\n",
        "\n",
        "    for _ in range(3):\n",
        "        print(f\"Resultado: {taylor_series(True)}\")\n",
        "        print()\n"
      ],
      "metadata": {
        "colab": {
          "base_uri": "https://localhost:8080/"
        },
        "id": "pvJM_-5Fndpy",
        "outputId": "e8318dde-2ebb-4672-ddae-48fa11fc37c1"
      },
      "execution_count": 34,
      "outputs": [
        {
          "output_type": "stream",
          "name": "stdout",
          "text": [
            "Insira o valor de n: 99999999999999999999999\n",
            "Insira o valor de x: 0.00000000000000000000000000000000001\n",
            "\n",
            "Resultado: 1.0\n",
            "\n",
            "Insira o valor de n: 9999999999999999999999999\n",
            "Insira o valor de x: -0.000000000000000000000000000000000000000000001\n",
            "\n",
            "Resultado: 1.0\n",
            "\n",
            "Insira o valor de n: 99999999999999999999999999\n",
            "Insira o valor de x: 99999999999999999999999999999999999999\n",
            "\n",
            "Resultado: 4.9999999999999994e+75\n",
            "\n",
            "Insira o valor de n: 365\n",
            "Insira o valor de x: -99999999999999999999999\n",
            "\n",
            "Resultado: 2.0000000000000004e-46\n",
            "\n",
            "Insira o valor de n: 10000000000000000000000000000\n",
            "Insira o valor de x: 0.1\n",
            "\n",
            "Resultado: 1.105\n",
            "\n",
            "Insira o valor de n: 9999999999999999\n",
            "Insira o valor de x: -00000000000000000000000.1\n",
            "\n",
            "Resultado: 0.9049773755656109\n",
            "\n"
          ]
        }
      ]
    },
    {
      "cell_type": "markdown",
      "source": [
        "A partir dos resultados obtidos, é possível depreender algumas conclusões relevantes:\n",
        "\n",
        "* para valores de $x$ próximos à zero, o algoritmo tende a arrendondar o valor do resultado para 1.0 por conta dos limites de precisão da máquina;\n",
        "\n",
        "* para valores extremamente altos, o algoritmo aproxima o resultado, representando-o na forma de notação científica. (estes valores implicariam em *overflow* caso o algoritmo não realizasse os cálculos de modo eficiente)\n",
        " \n",
        "* quando não arrendondados, os valores calculados possuem precisão de até 16 casas decimais.\n",
        "\n"
      ],
      "metadata": {
        "id": "vgQq6ICGpO_6"
      }
    }
  ]
}
